{
 "cells": [
  {
   "cell_type": "code",
   "execution_count": 11,
   "metadata": {},
   "outputs": [],
   "source": [
    "import os\n",
    "import pandas as pd\n",
    "import numpy as np\n",
    "from tqdm import tqdm\n",
    "from scipy.io import wavfile"
   ]
  },
  {
   "cell_type": "code",
   "execution_count": 12,
   "metadata": {},
   "outputs": [],
   "source": [
    "def build_rand_feat():\n",
    "    X = []\n",
    "    y = []\n",
    "\n",
    "    _min, _max = float('inf'), -float('inf')\n",
    "\n",
    "    for _ in tqdm(range(n_samples)):\n",
    "        rand_class = np.random.choice(class_dist.index, p=prob_dist)\n",
    "        f = np.random.choice(df[df['class'] == rand_class].index)\n",
    "        rate, signal = wavfile.read(df.iloc[f].c_path)\n",
    "        "
   ]
  },
  {
   "cell_type": "code",
   "execution_count": 2,
   "metadata": {},
   "outputs": [],
   "source": [
    "df = pd.read_csv('./sounds.csv')"
   ]
  },
  {
   "cell_type": "code",
   "execution_count": 6,
   "metadata": {},
   "outputs": [],
   "source": [
    "classes = np.unique(df['class'])\n",
    "class_dist = df.groupby(['class'])['length'].mean()"
   ]
  },
  {
   "cell_type": "code",
   "execution_count": 7,
   "metadata": {},
   "outputs": [],
   "source": [
    "n_samples = 2 * int(df.length.sum()/0.1)\n",
    "prob_dist = class_dist / class_dist.sum()"
   ]
  },
  {
   "cell_type": "code",
   "execution_count": 13,
   "metadata": {},
   "outputs": [
    {
     "name": "stderr",
     "output_type": "stream",
     "text": [
      " 27%|██▋       | 13688/51230 [00:03<00:09, 3827.68it/s]"
     ]
    }
   ],
   "source": [
    "build_rand_feat()"
   ]
  },
  {
   "cell_type": "code",
   "execution_count": 3,
   "metadata": {},
   "outputs": [
    {
     "data": {
      "text/html": [
       "<div>\n",
       "<style scoped>\n",
       "    .dataframe tbody tr th:only-of-type {\n",
       "        vertical-align: middle;\n",
       "    }\n",
       "\n",
       "    .dataframe tbody tr th {\n",
       "        vertical-align: top;\n",
       "    }\n",
       "\n",
       "    .dataframe thead th {\n",
       "        text-align: right;\n",
       "    }\n",
       "</style>\n",
       "<table border=\"1\" class=\"dataframe\">\n",
       "  <thead>\n",
       "    <tr style=\"text-align: right;\">\n",
       "      <th></th>\n",
       "      <th>filename</th>\n",
       "      <th>path</th>\n",
       "      <th>class</th>\n",
       "      <th>length</th>\n",
       "      <th>c_path</th>\n",
       "    </tr>\n",
       "  </thead>\n",
       "  <tbody>\n",
       "    <tr>\n",
       "      <th>0</th>\n",
       "      <td>XC216010-3.wav</td>\n",
       "      <td>archive/Parsed_Capuchinbird_Clips/XC216010-3.wav</td>\n",
       "      <td>1.0</td>\n",
       "      <td>3.500000</td>\n",
       "      <td>clean/XC216010-3.wav</td>\n",
       "    </tr>\n",
       "    <tr>\n",
       "      <th>1</th>\n",
       "      <td>XC22397-2.wav</td>\n",
       "      <td>archive/Parsed_Capuchinbird_Clips/XC22397-2.wav</td>\n",
       "      <td>1.0</td>\n",
       "      <td>2.500000</td>\n",
       "      <td>clean/XC22397-2.wav</td>\n",
       "    </tr>\n",
       "    <tr>\n",
       "      <th>2</th>\n",
       "      <td>XC22397-5.wav</td>\n",
       "      <td>archive/Parsed_Capuchinbird_Clips/XC22397-5.wav</td>\n",
       "      <td>1.0</td>\n",
       "      <td>3.500000</td>\n",
       "      <td>clean/XC22397-5.wav</td>\n",
       "    </tr>\n",
       "    <tr>\n",
       "      <th>3</th>\n",
       "      <td>XC79965-6.wav</td>\n",
       "      <td>archive/Parsed_Capuchinbird_Clips/XC79965-6.wav</td>\n",
       "      <td>1.0</td>\n",
       "      <td>3.500000</td>\n",
       "      <td>clean/XC79965-6.wav</td>\n",
       "    </tr>\n",
       "    <tr>\n",
       "      <th>4</th>\n",
       "      <td>XC227469-0.wav</td>\n",
       "      <td>archive/Parsed_Capuchinbird_Clips/XC227469-0.wav</td>\n",
       "      <td>1.0</td>\n",
       "      <td>3.000000</td>\n",
       "      <td>clean/XC227469-0.wav</td>\n",
       "    </tr>\n",
       "    <tr>\n",
       "      <th>...</th>\n",
       "      <td>...</td>\n",
       "      <td>...</td>\n",
       "      <td>...</td>\n",
       "      <td>...</td>\n",
       "      <td>...</td>\n",
       "    </tr>\n",
       "    <tr>\n",
       "      <th>805</th>\n",
       "      <td>crickets-sound-effect-15.wav</td>\n",
       "      <td>archive/Parsed_Not_Capuchinbird_Clips/crickets...</td>\n",
       "      <td>0.0</td>\n",
       "      <td>3.081995</td>\n",
       "      <td>clean/crickets-sound-effect-15.wav</td>\n",
       "    </tr>\n",
       "    <tr>\n",
       "      <th>806</th>\n",
       "      <td>cricket-sounds-for-sleep-34.wav</td>\n",
       "      <td>archive/Parsed_Not_Capuchinbird_Clips/cricket-...</td>\n",
       "      <td>0.0</td>\n",
       "      <td>3.019002</td>\n",
       "      <td>clean/cricket-sounds-for-sleep-34.wav</td>\n",
       "    </tr>\n",
       "    <tr>\n",
       "      <th>807</th>\n",
       "      <td>afternoon-birds-song-in-forest-10.wav</td>\n",
       "      <td>archive/Parsed_Not_Capuchinbird_Clips/afternoo...</td>\n",
       "      <td>0.0</td>\n",
       "      <td>3.057982</td>\n",
       "      <td>clean/afternoon-birds-song-in-forest-10.wav</td>\n",
       "    </tr>\n",
       "    <tr>\n",
       "      <th>808</th>\n",
       "      <td>cricket-sounds-for-sleep-14.wav</td>\n",
       "      <td>archive/Parsed_Not_Capuchinbird_Clips/cricket-...</td>\n",
       "      <td>0.0</td>\n",
       "      <td>3.019002</td>\n",
       "      <td>clean/cricket-sounds-for-sleep-14.wav</td>\n",
       "    </tr>\n",
       "    <tr>\n",
       "      <th>809</th>\n",
       "      <td>Crickets-chirping-7.wav</td>\n",
       "      <td>archive/Parsed_Not_Capuchinbird_Clips/Crickets...</td>\n",
       "      <td>0.0</td>\n",
       "      <td>3.254989</td>\n",
       "      <td>clean/Crickets-chirping-7.wav</td>\n",
       "    </tr>\n",
       "  </tbody>\n",
       "</table>\n",
       "<p>810 rows × 5 columns</p>\n",
       "</div>"
      ],
      "text/plain": [
       "                                  filename  \\\n",
       "0                           XC216010-3.wav   \n",
       "1                            XC22397-2.wav   \n",
       "2                            XC22397-5.wav   \n",
       "3                            XC79965-6.wav   \n",
       "4                           XC227469-0.wav   \n",
       "..                                     ...   \n",
       "805           crickets-sound-effect-15.wav   \n",
       "806        cricket-sounds-for-sleep-34.wav   \n",
       "807  afternoon-birds-song-in-forest-10.wav   \n",
       "808        cricket-sounds-for-sleep-14.wav   \n",
       "809                Crickets-chirping-7.wav   \n",
       "\n",
       "                                                  path  class    length  \\\n",
       "0     archive/Parsed_Capuchinbird_Clips/XC216010-3.wav    1.0  3.500000   \n",
       "1      archive/Parsed_Capuchinbird_Clips/XC22397-2.wav    1.0  2.500000   \n",
       "2      archive/Parsed_Capuchinbird_Clips/XC22397-5.wav    1.0  3.500000   \n",
       "3      archive/Parsed_Capuchinbird_Clips/XC79965-6.wav    1.0  3.500000   \n",
       "4     archive/Parsed_Capuchinbird_Clips/XC227469-0.wav    1.0  3.000000   \n",
       "..                                                 ...    ...       ...   \n",
       "805  archive/Parsed_Not_Capuchinbird_Clips/crickets...    0.0  3.081995   \n",
       "806  archive/Parsed_Not_Capuchinbird_Clips/cricket-...    0.0  3.019002   \n",
       "807  archive/Parsed_Not_Capuchinbird_Clips/afternoo...    0.0  3.057982   \n",
       "808  archive/Parsed_Not_Capuchinbird_Clips/cricket-...    0.0  3.019002   \n",
       "809  archive/Parsed_Not_Capuchinbird_Clips/Crickets...    0.0  3.254989   \n",
       "\n",
       "                                          c_path  \n",
       "0                           clean/XC216010-3.wav  \n",
       "1                            clean/XC22397-2.wav  \n",
       "2                            clean/XC22397-5.wav  \n",
       "3                            clean/XC79965-6.wav  \n",
       "4                           clean/XC227469-0.wav  \n",
       "..                                           ...  \n",
       "805           clean/crickets-sound-effect-15.wav  \n",
       "806        clean/cricket-sounds-for-sleep-34.wav  \n",
       "807  clean/afternoon-birds-song-in-forest-10.wav  \n",
       "808        clean/cricket-sounds-for-sleep-14.wav  \n",
       "809                clean/Crickets-chirping-7.wav  \n",
       "\n",
       "[810 rows x 5 columns]"
      ]
     },
     "execution_count": 3,
     "metadata": {},
     "output_type": "execute_result"
    }
   ],
   "source": [
    "df"
   ]
  }
 ],
 "metadata": {
  "kernelspec": {
   "display_name": "audio",
   "language": "python",
   "name": "python3"
  },
  "language_info": {
   "codemirror_mode": {
    "name": "ipython",
    "version": 3
   },
   "file_extension": ".py",
   "mimetype": "text/x-python",
   "name": "python",
   "nbconvert_exporter": "python",
   "pygments_lexer": "ipython3",
   "version": "3.10.13"
  }
 },
 "nbformat": 4,
 "nbformat_minor": 2
}
